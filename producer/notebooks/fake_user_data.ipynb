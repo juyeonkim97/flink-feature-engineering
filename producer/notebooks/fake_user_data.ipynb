{
 "cells": [
  {
   "cell_type": "code",
   "execution_count": null,
   "metadata": {},
   "outputs": [
    {
     "name": "stdout",
     "output_type": "stream",
     "text": [
      "Hourly feature 테스트용 이벤트 생성 시작\n",
      "한국 시간 기준: 2025-07-03 21:37:48 KST\n",
      "사용자 111 이벤트 생성:\n",
      "  view - 21:37:48\n",
      "  view - 21:37:58\n",
      "  view - 21:38:08\n",
      "  view - 21:38:18\n",
      "  view - 21:38:28\n",
      "  cart - 21:38:38\n",
      "  cart - 21:38:48\n",
      "  purchase - 21:38:58\n",
      "사용자 222 이벤트 생성:\n",
      "  view - 21:39:08\n",
      "  view - 21:39:18\n",
      "  cart - 21:39:28\n",
      "사용자 333 이벤트 생성:\n",
      "  view - 21:39:38\n"
     ]
    }
   ],
   "source": [
    "import json\n",
    "import random\n",
    "import uuid\n",
    "import pandas as pd\n",
    "from datetime import datetime, timedelta\n",
    "from kafka import KafkaProducer\n",
    "import pytz\n",
    "\n",
    "producer = KafkaProducer(\n",
    "    bootstrap_servers=['localhost:9092'],\n",
    "    value_serializer=lambda v: json.dumps(v).encode('utf-8')\n",
    ")\n",
    "\n",
    "sent_events = []\n",
    "\n",
    "# 한국 시간으로 현재 시간 설정\n",
    "korea_tz = pytz.timezone('Asia/Seoul')\n",
    "current_time = datetime.now(korea_tz)\n",
    "\n",
    "users = {\n",
    "    \"111\": {\"view\": 5, \"cart\": 2, \"purchase\": 1},\n",
    "    \"222\": {\"view\": 2, \"cart\": 1, \"purchase\": 0},  \n",
    "    \"333\": {\"view\": 1, \"cart\": 0, \"purchase\": 0}\n",
    "}\n",
    "\n",
    "print(\"Hourly feature 테스트용 이벤트 생성 시작\")\n",
    "print(f\"한국 시간 기준: {current_time.strftime('%Y-%m-%d %H:%M:%S %Z')}\")\n",
    "\n",
    "for user_id, pattern in users.items():\n",
    "    print(f\"사용자 {user_id} 이벤트 생성:\")\n",
    "    \n",
    "    for event_type, count in pattern.items():\n",
    "        for i in range(count):\n",
    "            event = {\n",
    "                \"event_time\": current_time.isoformat(),  # 모든 이벤트 동일한 시간\n",
    "                \"event_type\": event_type,\n",
    "                \"price\": round(random.uniform(10, 500), 2),\n",
    "                \"user_id\": user_id,\n",
    "            }\n",
    "            \n",
    "            producer.send(\"ecommerce-events\", value=event)\n",
    "            sent_events.append(event)\n",
    "            print(f\"  {event_type} - {current_time.strftime('%H:%M:%S')}\")\n",
    "\n",
    "producer.flush() # 모든 메시지가 전송될 때까지 대기\n",
    "sent_df = pd.DataFrame(sent_events)"
   ]
  },
  {
   "cell_type": "code",
   "execution_count": 2,
   "metadata": {},
   "outputs": [
    {
     "name": "stdout",
     "output_type": "stream",
     "text": [
      "Redis 연결 성공\n"
     ]
    }
   ],
   "source": [
    "# Redis 연결 및 키 확인\n",
    "import redis\n",
    "import json\n",
    "from pprint import pprint\n",
    "\n",
    "# Redis 클라이언트 생성\n",
    "r = redis.Redis(host='localhost', port=6379, decode_responses=True)\n",
    "\n",
    "try:\n",
    "    r.ping()\n",
    "    print('Redis 연결 성공')\n",
    "except Exception as e:\n",
    "    print(f\"Redis 연결 실패: {e}\")\n"
   ]
  },
  {
   "cell_type": "code",
   "execution_count": 3,
   "metadata": {},
   "outputs": [],
   "source": [
    "# 1. 모든 user_features 키 조회\n",
    "user_keys = r.keys(\"*\")\n",
    "for key in user_keys[:10]:  # 처음 10개만 표시\n",
    "    print(f\"- {key}\")\n"
   ]
  },
  {
   "cell_type": "code",
   "execution_count": 9,
   "metadata": {},
   "outputs": [],
   "source": [
    "\n",
    "# State 보존 테스트: 추가 이벤트 전송\n",
    "from datetime import datetime, timedelta\n",
    "import pytz\n",
    "import json\n",
    "import uuid\n",
    "\n",
    "korea_tz = pytz.timezone('Asia/Seoul')\n",
    "future_time = datetime.now(korea_tz)\n",
    "\n",
    "test_event = {\n",
    "    \"event_time\": future_time.isoformat(),\n",
    "    \"event_type\": \"view\",\n",
    "    \"price\": 100.0,\n",
    "    \"user_id\": \"111\",  # 기존 사용자\n",
    "}\n",
    "\n",
    "producer.send(\"ecommerce-events\", value=test_event)\n",
    "producer.flush()"
   ]
  },
  {
   "cell_type": "code",
   "execution_count": 5,
   "metadata": {},
   "outputs": [
    {
     "name": "stdout",
     "output_type": "stream",
     "text": [
      "=== 2025-07-03 22:56:06 이후 사용자 111 이벤트 ===\n",
      "현재 시간: 2025-07-03 23:56:06\n",
      "최대 3초간 읽습니다...\n",
      "Kafka: 23:49:53.566 | Event: 23:49:25.341 | view | Price: 236.31\n",
      "Kafka: 23:49:53.567 | Event: 23:50:25.341 | view | Price: 217.99\n",
      "Kafka: 23:49:53.567 | Event: 23:52:25.341 | cart | Price: 418.75\n",
      "Kafka: 23:49:53.567 | Event: 23:54:25.341 | purchase | Price: 217.58\n",
      "Kafka: 23:51:08.110 | Event: 23:49:25.341 | view | Price: 132.74\n",
      "Kafka: 23:51:08.110 | Event: 23:50:25.341 | view | Price: 95.88\n",
      "Kafka: 23:51:08.110 | Event: 23:52:25.341 | cart | Price: 434.57\n",
      "Kafka: 23:51:08.110 | Event: 23:54:25.341 | purchase | Price: 42.03\n",
      "Kafka: 23:55:09.624 | Event: 23:49:25.341 | view | Price: 124.29\n",
      "Kafka: 23:55:09.624 | Event: 23:50:25.341 | view | Price: 56.06\n",
      "Kafka: 23:55:09.624 | Event: 23:52:25.341 | cart | Price: 318.35\n",
      "Kafka: 23:55:09.624 | Event: 23:54:25.341 | purchase | Price: 65.79\n",
      "\n",
      "=== 요약 ===\n",
      "총 12개 이벤트 발견\n",
      "\n",
      "이벤트 타입별 집계:\n",
      "  cart: 3개\n",
      "  purchase: 3개\n",
      "  view: 6개\n"
     ]
    }
   ],
   "source": [
    "# 사용자 111의 현재 시간 1시간 전부터 이벤트 조회\n",
    "from kafka import KafkaConsumer\n",
    "import json\n",
    "from datetime import datetime, timedelta\n",
    "from collections import defaultdict\n",
    "\n",
    "user_id = \"111\"\n",
    "current_time = datetime.now()\n",
    "start_time = current_time - timedelta(hours=1)  # 현재 시간 1시간 전\n",
    "# start_time = datetime(2025, 7, 3, 21, 37, 0, 0)\n",
    "duration_seconds = 3\n",
    "\n",
    "print(f\"=== {start_time.strftime('%Y-%m-%d %H:%M:%S')} 이후 사용자 {user_id} 이벤트 ===\")\n",
    "print(f\"현재 시간: {current_time.strftime('%Y-%m-%d %H:%M:%S')}\")\n",
    "print(f\"최대 {duration_seconds}초간 읽습니다...\")\n",
    "\n",
    "# Kafka Consumer 설정\n",
    "consumer = KafkaConsumer(\n",
    "    'ecommerce-events',  # 올바른 토픽명\n",
    "    bootstrap_servers=['localhost:9092'],\n",
    "    value_deserializer=lambda x: json.loads(x.decode('utf-8')),\n",
    "    consumer_timeout_ms=duration_seconds * 1000,  # 최대 읽기 시간\n",
    "    auto_offset_reset='earliest'  # 처음부터 읽기\n",
    ")\n",
    "\n",
    "events = []\n",
    "event_type_counts = defaultdict(int)\n",
    "\n",
    "try:\n",
    "    for message in consumer:\n",
    "        event = message.value\n",
    "        \n",
    "        # Kafka 메시지 발행 시간 확인\n",
    "        kafka_time = datetime.fromtimestamp(message.timestamp / 1000.0)\n",
    "        \n",
    "        # 카프카 발행 시간으로 필터링 (1시간 전부터)\n",
    "        if kafka_time < start_time:\n",
    "            continue\n",
    "        \n",
    "        # 사용자 ID 필터링 (올바른 필드명)\n",
    "        if event.get('user_id') != user_id:\n",
    "            continue\n",
    "            \n",
    "        # 이벤트 시간 파싱\n",
    "        try:\n",
    "            if event.get('event_time'):\n",
    "                # ISO 포맷 시간 파싱\n",
    "                event_time_str = event.get('event_time')\n",
    "                if '+' in event_time_str:\n",
    "                    event_time = datetime.fromisoformat(event_time_str.replace('+09:00', ''))\n",
    "                else:\n",
    "                    event_time = datetime.fromisoformat(event_time_str)\n",
    "            else:\n",
    "                event_time = kafka_time\n",
    "        except:\n",
    "            event_time = kafka_time\n",
    "        \n",
    "        # 이벤트 정보 저장\n",
    "        events.append({\n",
    "            'kafka_time': kafka_time,\n",
    "            'event_time': event_time,\n",
    "            'event_type': event.get('event_type'),  # 올바른 필드명\n",
    "            'price': event.get('price'),  # 가격 정보\n",
    "        })\n",
    "        event_type_counts[event.get('event_type')] += 1\n",
    "        \n",
    "        # 이벤트 출력\n",
    "        print(f\"Kafka: {kafka_time.strftime('%H:%M:%S.%f')[:-3]} | \"\n",
    "              f\"Event: {event_time.strftime('%H:%M:%S.%f')[:-3]} | \"\n",
    "              f\"{event.get('event_type')} | \"\n",
    "              f\"Price: {event.get('price')}\")\n",
    "              \n",
    "except Exception as e:\n",
    "    print(f\"Consumer 종료: {e}\")\n",
    "finally:\n",
    "    consumer.close()\n",
    "\n",
    "# 요약 출력\n",
    "print(f\"\\n=== 요약 ===\")\n",
    "print(f\"총 {len(events)}개 이벤트 발견\")\n",
    "\n",
    "if event_type_counts:\n",
    "    print(f\"\\n이벤트 타입별 집계:\")\n",
    "    for event_type, count in sorted(event_type_counts.items()):\n",
    "        print(f\"  {event_type}: {count}개\")\n"
   ]
  },
  {
   "cell_type": "code",
   "execution_count": 7,
   "metadata": {},
   "outputs": [
    {
     "data": {
      "text/plain": [
       "{'cart_count_1h': '0',\n",
       " 'user_id': '111',\n",
       " 'view_count_1h': '2',\n",
       " 'purchase_count_1h': '0',\n",
       " 'avg_viewed_price_1h': '184.525'}"
      ]
     },
     "execution_count": 7,
     "metadata": {},
     "output_type": "execute_result"
    }
   ],
   "source": [
    "r.hgetall(\"user_features:111\")"
   ]
  },
  {
   "cell_type": "code",
   "execution_count": null,
   "metadata": {},
   "outputs": [],
   "source": []
  }
 ],
 "metadata": {
  "kernelspec": {
   "display_name": "Flink Producer",
   "language": "python",
   "name": "flink-producer"
  },
  "language_info": {
   "codemirror_mode": {
    "name": "ipython",
    "version": 3
   },
   "file_extension": ".py",
   "mimetype": "text/x-python",
   "name": "python",
   "nbconvert_exporter": "python",
   "pygments_lexer": "ipython3",
   "version": "3.9.6"
  }
 },
 "nbformat": 4,
 "nbformat_minor": 2
}
