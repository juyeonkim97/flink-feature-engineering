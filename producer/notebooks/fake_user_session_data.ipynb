{
 "cells": [
  {
   "cell_type": "code",
   "execution_count": 8,
   "metadata": {},
   "outputs": [],
   "source": [
    "# 세션 윈도우 테스트 초기화\n",
    "import json\n",
    "import random\n",
    "from datetime import datetime, timedelta\n",
    "from kafka import KafkaProducer\n",
    "\n",
    "producer = KafkaProducer(\n",
    "    bootstrap_servers=['localhost:9092'],\n",
    "    value_serializer=lambda v: json.dumps(v).encode('utf-8')\n",
    ")"
   ]
  },
  {
   "cell_type": "code",
   "execution_count": 2,
   "metadata": {},
   "outputs": [
    {
     "name": "stdout",
     "output_type": "stream",
     "text": [
      "Redis 연결 성공\n"
     ]
    }
   ],
   "source": [
    "# Redis 연결 및 키 확인\n",
    "import redis\n",
    "import json\n",
    "from pprint import pprint\n",
    "\n",
    "# Redis 클라이언트 생성\n",
    "r = redis.Redis(host='localhost', port=6379, decode_responses=True)\n",
    "\n",
    "try:\n",
    "    r.ping()\n",
    "    print('Redis 연결 성공')\n",
    "except Exception as e:\n",
    "    print(f\"Redis 연결 실패: {e}\")\n"
   ]
  },
  {
   "cell_type": "code",
   "execution_count": 43,
   "metadata": {},
   "outputs": [
    {
     "name": "stdout",
     "output_type": "stream",
     "text": [
      "- user_features:111\n"
     ]
    }
   ],
   "source": [
    "# 1. 모든 user_features 키 조회\n",
    "user_keys = r.keys(\"*\")\n",
    "for key in user_keys[:10]:  # 처음 10개만 표시\n",
    "    print(f\"- {key}\")\n"
   ]
  },
  {
   "cell_type": "code",
   "execution_count": 51,
   "metadata": {},
   "outputs": [
    {
     "name": "stdout",
     "output_type": "stream",
     "text": [
      "사용자 111 세션 생성 (단일 세션, 5분간 활동):\n",
      "2025-07-04 17:54:23.690540\n",
      "  view - 17:54:23 (+0분)\n",
      "  view - 17:55:23 (+1분)\n",
      "  cart - 17:57:23 (+3분)\n",
      "  purchase - 17:59:23 (+5분)\n",
      "✅ 사용자 111 이벤트 전송 완료\n",
      "\n"
     ]
    }
   ],
   "source": [
    "\n",
    "# 사용자 111: 하나의 긴 세션 (5분간 활동)\n",
    "print(\"사용자 111 세션 생성 (단일 세션, 5분간 활동):\")\n",
    "\n",
    "user111_events = [\n",
    "    {\"type\": \"view\", \"offset_minutes\": 0},\n",
    "    {\"type\": \"view\", \"offset_minutes\": 1}, \n",
    "    {\"type\": \"cart\", \"offset_minutes\": 3},\n",
    "    {\"type\": \"purchase\", \"offset_minutes\": 5}\n",
    "]\n",
    "\n",
    "# 기준 시간 설정\n",
    "base_time = datetime.now()\n",
    "print(base_time)\n",
    "\n",
    "for event_info in user111_events:\n",
    "    event_time = base_time + timedelta(minutes=event_info[\"offset_minutes\"])\n",
    "    \n",
    "    event = {\n",
    "        \"event_time\": event_time.isoformat(),\n",
    "        \"event_type\": event_info[\"type\"],\n",
    "        \"price\": round(random.uniform(10, 500), 2),\n",
    "        \"user_id\": \"111\",\n",
    "    }\n",
    "    \n",
    "    producer.send(\"ecommerce-events\", value=event)\n",
    "    print(f\"  {event_info['type']} - {event_time.strftime('%H:%M:%S')} (+{event_info['offset_minutes']}분)\")\n",
    "\n",
    "producer.flush()\n",
    "print(\"✅ 사용자 111 이벤트 전송 완료\\n\")\n"
   ]
  },
  {
   "cell_type": "code",
   "execution_count": 59,
   "metadata": {},
   "outputs": [
    {
     "name": "stdout",
     "output_type": "stream",
     "text": [
      "2025-07-04 18:12:31.616868\n",
      "  purchase - 18:12:31 분)\n"
     ]
    }
   ],
   "source": [
    "event_time = datetime.now() + timedelta(minutes=10)\n",
    "print(event_time)\n",
    "event = {\n",
    "        \"event_time\": event_time.isoformat(),\n",
    "        \"event_type\": event_info[\"type\"],\n",
    "        \"price\": round(random.uniform(10, 500), 2),\n",
    "        \"user_id\": \"111\",\n",
    "    }\n",
    "print(f\"  {event_info['type']} - {event_time.strftime('%H:%M:%S')} 분)\")\n",
    "producer.send(\"ecommerce-events\", value=event)\n",
    "producer.flush()"
   ]
  },
  {
   "cell_type": "code",
   "execution_count": 60,
   "metadata": {},
   "outputs": [
    {
     "name": "stdout",
     "output_type": "stream",
     "text": [
      "- user_features:222\n",
      "- session_features:111:1751619751805\n",
      "- user_features:111\n"
     ]
    }
   ],
   "source": [
    "user_keys = r.keys(\"*\")\n",
    "for key in user_keys[:10]:  # 처음 10개만 표시\n",
    "    print(f\"- {key}\")"
   ]
  },
  {
   "cell_type": "code",
   "execution_count": 46,
   "metadata": {},
   "outputs": [
    {
     "data": {
      "text/plain": [
       "{'duration_seconds': '300', 'user_id': '111', 'event_count': '4'}"
      ]
     },
     "execution_count": 46,
     "metadata": {},
     "output_type": "execute_result"
    }
   ],
   "source": [
    "r.hgetall(\"session_features:111:1751619751805\")"
   ]
  },
  {
   "cell_type": "code",
   "execution_count": 17,
   "metadata": {},
   "outputs": [
    {
     "data": {
      "text/plain": [
       "{'duration_seconds': '300', 'user_id': '111', 'event_count': '12'}"
      ]
     },
     "execution_count": 17,
     "metadata": {},
     "output_type": "execute_result"
    }
   ],
   "source": [
    "r.hgetall(\"session_features:111:1751556831315\")"
   ]
  },
  {
   "cell_type": "code",
   "execution_count": null,
   "metadata": {},
   "outputs": [],
   "source": [
    "# 사용자 222: 두 개의 분리된 세션 (30분 간격으로 세션 분리)\n",
    "print(\"사용자 222 세션 생성 (2개 세션으로 분리):\")\n",
    "\n",
    "user222_events = [\n",
    "    {\"type\": \"view\", \"offset_minutes\": 0},\n",
    "    {\"type\": \"cart\", \"offset_minutes\": 2},\n",
    "    {\"type\": \"view\", \"offset_minutes\": 35},  # 30분 후 새 세션\n",
    "]\n",
    "\n",
    "for event_info in user222_events:\n",
    "    event_time = base_time + timedelta(minutes=event_info[\"offset_minutes\"])\n",
    "    \n",
    "    event = {\n",
    "        \"event_time\": event_time.isoformat(),\n",
    "        \"event_type\": event_info[\"type\"],\n",
    "        \"price\": round(random.uniform(10, 500), 2),\n",
    "        \"user_id\": \"222\",\n",
    "    }\n",
    "    \n",
    "    producer.send(\"ecommerce-events\", value=event)\n",
    "    \n",
    "    if event_info[\"offset_minutes\"] < 30:\n",
    "        session_info = \"첫 번째 세션\"\n",
    "    else:\n",
    "        session_info = \"두 번째 세션\"\n",
    "    \n",
    "    print(f\"  {event_info['type']} - {event_time.strftime('%H:%M:%S')} (+{event_info['offset_minutes']}분) [{session_info}]\")\n",
    "\n",
    "producer.flush()\n",
    "print(\"✅ 사용자 222 이벤트 전송 완료\\n\")\n"
   ]
  },
  {
   "cell_type": "code",
   "execution_count": 47,
   "metadata": {},
   "outputs": [
    {
     "name": "stdout",
     "output_type": "stream",
     "text": [
      "사용자 333 세션 생성 (단일 이벤트 세션):\n",
      "2025-07-04 01:44:30.132454\n",
      "  view - 01:44:30 (+0분)\n",
      "  view - 01:46:30 (+2분)\n",
      "  view - 01:49:30 (+5분)\n",
      "✅ 사용자 333 이벤트 전송 완료\n",
      "\n",
      "  view - 01:56:30 (+12분)\n",
      "✅ 사용자 222 이벤트 전송 완료\n",
      "\n"
     ]
    }
   ],
   "source": [
    "# 사용자 333: 짧은 단일 세션\n",
    "print(\"사용자 333 세션 생성 (단일 이벤트 세션):\")\n",
    "\n",
    "# 기준 시간 설정\n",
    "base_time = datetime.now()\n",
    "print(base_time)\n",
    "\n",
    "user333_events = [\n",
    "    {\"type\": \"view\", \"offset_minutes\": 0},\n",
    "    {\"type\": \"view\", \"offset_minutes\": 2},\n",
    "    {\"type\": \"view\", \"offset_minutes\": 5},\n",
    "]\n",
    "\n",
    "# user222 워터마크가 user333에 영향이 있는지 테스트\n",
    "user222_events = [\n",
    "    {\"type\": \"view\", \"offset_minutes\": 12}\n",
    "]\n",
    "\n",
    "for event_info in user333_events:\n",
    "    event_time = base_time + timedelta(minutes=event_info[\"offset_minutes\"])\n",
    "    \n",
    "    event = {\n",
    "        \"event_time\": event_time.isoformat(),\n",
    "        \"event_type\": event_info[\"type\"],\n",
    "        \"price\": round(random.uniform(10, 500), 2),\n",
    "        \"user_id\": \"333\",\n",
    "    }\n",
    "    \n",
    "    producer.send(\"ecommerce-events\", value=event)\n",
    "    print(f\"  {event_info['type']} - {event_time.strftime('%H:%M:%S')} (+{event_info['offset_minutes']}분)\")\n",
    "print(\"✅ 사용자 333 이벤트 전송 완료\\n\")\n",
    "    \n",
    "for event_info in user222_events:\n",
    "    event_time = base_time + timedelta(minutes=event_info[\"offset_minutes\"])\n",
    "    \n",
    "    event = {\n",
    "        \"event_time\": event_time.isoformat(),\n",
    "        \"event_type\": event_info[\"type\"],\n",
    "        \"price\": round(random.uniform(10, 500), 2),\n",
    "        \"user_id\": \"222\",\n",
    "    }\n",
    "    \n",
    "    producer.send(\"ecommerce-events\", value=event)\n",
    "    print(f\"  {event_info['type']} - {event_time.strftime('%H:%M:%S')} (+{event_info['offset_minutes']}분)\")\n",
    "print(\"✅ 사용자 222 이벤트 전송 완료\\n\")\n",
    "\n",
    "producer.flush()\n"
   ]
  },
  {
   "cell_type": "code",
   "execution_count": 26,
   "metadata": {},
   "outputs": [
    {
     "data": {
      "text/plain": [
       "{}"
      ]
     },
     "execution_count": 26,
     "metadata": {},
     "output_type": "execute_result"
    }
   ],
   "source": [
    "r.hgetall(\"session_features:333:1751557631488\")"
   ]
  },
  {
   "cell_type": "code",
   "execution_count": 9,
   "metadata": {},
   "outputs": [],
   "source": [
    "\n",
    "# 세션 테스트 완료 메시지\n",
    "print(\"모든 세션 테스트 완료!\")\n",
    "print(\"\\n기대 결과:\")\n",
    "print(\"- 사용자 111: 1개 세션 (4개 이벤트, 5분 지속)\")\n",
    "print(\"- 사용자 222: 2개 세션 (첫 번째 2개 이벤트, 두 번째 1개 이벤트)\")\n",
    "print(\"- 사용자 333: 1개 세션 (1개 이벤트)\")\n",
    "print(\"\\nRedis에서 확인:\")\n",
    "print(\"- session_feature:111:* → 1개 키\")\n",
    "print(\"- session_feature:222:* → 2개 키\")\n",
    "print(\"- session_feature:333:* → 1개 키\")"
   ]
  },
  {
   "cell_type": "code",
   "execution_count": 16,
   "metadata": {},
   "outputs": [
    {
     "name": "stdout",
     "output_type": "stream",
     "text": [
      "=== 2025-07-03 21:37:00 이후 사용자 111 이벤트 ===\n",
      "현재 시간: 2025-07-03 21:43:49\n",
      "최대 3초간 읽습니다...\n",
      "Kafka: 21:37:48.430 | Event: 21:37:48.429 | view | Product: 11997188\n",
      "Kafka: 21:37:48.430 | Event: 21:37:58.429 | view | Product: 18744325\n",
      "Kafka: 21:37:48.430 | Event: 21:38:08.429 | view | Product: 46672814\n",
      "Kafka: 21:37:48.430 | Event: 21:38:18.429 | view | Product: 74994405\n",
      "Kafka: 21:37:48.430 | Event: 21:38:28.429 | view | Product: 79591538\n",
      "Kafka: 21:37:48.431 | Event: 21:38:38.429 | cart | Product: 67247315\n",
      "Kafka: 21:37:48.431 | Event: 21:38:48.429 | cart | Product: 75348890\n",
      "Kafka: 21:37:48.431 | Event: 21:38:58.429 | purchase | Product: 86300472\n",
      "Kafka: 21:37:59.673 | Event: 21:37:59.672 | view | Product: 99999999\n",
      "\n",
      "=== 요약 ===\n",
      "총 9개 이벤트 발견\n",
      "\n",
      "이벤트 타입별 집계:\n",
      "  cart: 2개\n",
      "  purchase: 1개\n",
      "  view: 6개\n"
     ]
    }
   ],
   "source": [
    "# 세션 피처 결과 확인\n",
    "print(\"세션 피처 결과 확인:\")\n",
    "print(\"각 사용자별 세션 피처 키 목록:\")\n",
    "\n",
    "session_keys = r.keys(\"session_feature:*\")\n",
    "if session_keys:\n",
    "    for key in session_keys:\n",
    "        session_data = r.hgetall(key)\n",
    "        print(f\"\\n키: {key}\")\n",
    "        print(f\"  사용자: {session_data.get('user_id')}\")\n",
    "        print(f\"  이벤트 수: {session_data.get('event_count')}\")\n",
    "        print(f\"  지속 시간: {session_data.get('duration_seconds')}초\")\n",
    "else:\n",
    "    print(\"세션 피처 키가 없습니다. Flink 작업이 실행 중인지 확인해주세요.\")\n"
   ]
  },
  {
   "cell_type": "code",
   "execution_count": 4,
   "metadata": {},
   "outputs": [
    {
     "data": {
      "text/plain": [
       "{}"
      ]
     },
     "execution_count": 4,
     "metadata": {},
     "output_type": "execute_result"
    }
   ],
   "source": [
    "# 추가 테스트 이벤트 (옵션)\n",
    "# 필요시 특정 사용자의 추가 이벤트를 발행할 수 있습니다\n",
    "\n",
    "def send_additional_event(user_id, event_type, offset_minutes=0):\n",
    "    \"\"\"추가 이벤트 발행 헬퍼 함수\"\"\"\n",
    "    event_time = base_time + timedelta(minutes=offset_minutes)\n",
    "    event = {\n",
    "        \"event_time\": event_time.isoformat(),\n",
    "        \"event_type\": event_type,\n",
    "        \"price\": round(random.uniform(10, 500), 2),\n",
    "        \"user_id\": user_id,\n",
    "    }\n",
    "    producer.send(\"ecommerce-events\", value=event)\n",
    "    producer.flush()\n",
    "    print(f\"추가 이벤트 전송: {user_id} - {event_type} - {event_time.strftime('%H:%M:%S')}\")\n",
    "\n",
    "# 사용법 예시 (필요시 주석 해제 후 실행):\n",
    "# send_additional_event(\"111\", \"view\", 15)  # 15분 후 추가 이벤트\n",
    "# send_additional_event(\"222\", \"cart\", 45)  # 45분 후 추가 이벤트 (새 세션)"
   ]
  }
 ],
 "metadata": {
  "kernelspec": {
   "display_name": "Flink Producer",
   "language": "python",
   "name": "flink-producer"
  },
  "language_info": {
   "codemirror_mode": {
    "name": "ipython",
    "version": 3
   },
   "file_extension": ".py",
   "mimetype": "text/x-python",
   "name": "python",
   "nbconvert_exporter": "python",
   "pygments_lexer": "ipython3",
   "version": "3.9.6"
  }
 },
 "nbformat": 4,
 "nbformat_minor": 2
}
