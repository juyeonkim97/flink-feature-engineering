{
 "cells": [
  {
   "cell_type": "code",
   "execution_count": 8,
   "metadata": {},
   "outputs": [],
   "source": [
    "# 세션 윈도우 테스트 초기화\n",
    "import json\n",
    "import random\n",
    "from datetime import datetime, timedelta\n",
    "from kafka import KafkaProducer\n",
    "\n",
    "producer = KafkaProducer(\n",
    "    bootstrap_servers=['localhost:9092'],\n",
    "    value_serializer=lambda v: json.dumps(v).encode('utf-8')\n",
    ")"
   ]
  },
  {
   "cell_type": "code",
   "execution_count": 2,
   "metadata": {},
   "outputs": [
    {
     "name": "stdout",
     "output_type": "stream",
     "text": [
      "Redis 연결 성공\n"
     ]
    }
   ],
   "source": [
    "# Redis 연결 및 키 확인\n",
    "import redis\n",
    "import json\n",
    "from pprint import pprint\n",
    "\n",
    "# Redis 클라이언트 생성\n",
    "r = redis.Redis(host='localhost', port=6379, decode_responses=True)\n",
    "\n",
    "try:\n",
    "    r.ping()\n",
    "    print('Redis 연결 성공')\n",
    "except Exception as e:\n",
    "    print(f\"Redis 연결 실패: {e}\")\n"
   ]
  },
  {
   "cell_type": "code",
   "execution_count": 69,
   "metadata": {},
   "outputs": [
    {
     "name": "stdout",
     "output_type": "stream",
     "text": [
      "사용자 111 세션 생성 (단일 세션, 5분간 활동):\n",
      "2025-07-04 22:53:46.767808\n",
      "  view - 22:53:46 (+0분)\n",
      "  view - 22:54:46 (+1분)\n",
      "  cart - 22:56:46 (+3분)\n",
      "  purchase - 22:58:46 (+5분)\n",
      "✅ 사용자 111 이벤트 전송 완료\n",
      "\n"
     ]
    }
   ],
   "source": [
    "\n",
    "# 사용자 111: 하나의 긴 세션 (5분간 활동)\n",
    "print(\"사용자 111 세션 생성 (단일 세션, 5분간 활동):\")\n",
    "\n",
    "user111_events = [\n",
    "    {\"type\": \"view\", \"offset_minutes\": 0},\n",
    "    {\"type\": \"view\", \"offset_minutes\": 1}, \n",
    "    {\"type\": \"cart\", \"offset_minutes\": 3},\n",
    "    {\"type\": \"purchase\", \"offset_minutes\": 5}\n",
    "]\n",
    "\n",
    "# 기준 시간 설정\n",
    "base_time = datetime.now()\n",
    "print(base_time)\n",
    "\n",
    "for event_info in user111_events:\n",
    "    event_time = base_time + timedelta(minutes=event_info[\"offset_minutes\"])\n",
    "    \n",
    "    event = {\n",
    "        \"event_time\": event_time.isoformat(),\n",
    "        \"event_type\": event_info[\"type\"],\n",
    "        \"price\": round(random.uniform(10, 500), 2),\n",
    "        \"user_id\": \"111\",\n",
    "    }\n",
    "    \n",
    "    producer.send(\"ecommerce-events\", value=event)\n",
    "    print(f\"  {event_info['type']} - {event_time.strftime('%H:%M:%S')} (+{event_info['offset_minutes']}분)\")\n",
    "\n",
    "producer.flush()\n",
    "print(\"✅ 사용자 111 이벤트 전송 완료\\n\")\n"
   ]
  },
  {
   "cell_type": "code",
   "execution_count": 72,
   "metadata": {},
   "outputs": [
    {
     "name": "stdout",
     "output_type": "stream",
     "text": [
      "2025-07-04 23:10:08.342071\n",
      "  purchase - 23:10:08 분)\n"
     ]
    }
   ],
   "source": [
    "event_time = datetime.now() + timedelta(minutes=15)\n",
    "print(event_time)\n",
    "event = {\n",
    "        \"event_time\": event_time.isoformat(),\n",
    "        \"event_type\": event_info[\"type\"],\n",
    "        \"price\": round(random.uniform(10, 500), 2),\n",
    "        \"user_id\": \"111\",\n",
    "    }\n",
    "print(f\"  {event_info['type']} - {event_time.strftime('%H:%M:%S')} 분)\")\n",
    "producer.send(\"ecommerce-events\", value=event)\n",
    "producer.flush()"
   ]
  },
  {
   "cell_type": "code",
   "execution_count": 78,
   "metadata": {},
   "outputs": [
    {
     "name": "stdout",
     "output_type": "stream",
     "text": [
      "- session_features:111:1751637308559\n",
      "- user_features:111\n"
     ]
    }
   ],
   "source": [
    "user_keys = r.keys(\"*\")\n",
    "for key in user_keys[:10]:  # 처음 10개만 표시\n",
    "    print(f\"- {key}\")"
   ]
  },
  {
   "cell_type": "code",
   "execution_count": 76,
   "metadata": {},
   "outputs": [
    {
     "data": {
      "text/plain": [
       "{'duration_seconds': '300', 'user_id': '111', 'event_count': '4'}"
      ]
     },
     "execution_count": 76,
     "metadata": {},
     "output_type": "execute_result"
    }
   ],
   "source": [
    "r.hgetall(\"session_features:111:1751637308559\")"
   ]
  },
  {
   "cell_type": "code",
   "execution_count": 17,
   "metadata": {},
   "outputs": [
    {
     "data": {
      "text/plain": [
       "{'duration_seconds': '300', 'user_id': '111', 'event_count': '12'}"
      ]
     },
     "execution_count": 17,
     "metadata": {},
     "output_type": "execute_result"
    }
   ],
   "source": [
    "r.hgetall(\"session_features:111:1751556831315\")"
   ]
  }
 ],
 "metadata": {
  "kernelspec": {
   "display_name": "Flink Producer",
   "language": "python",
   "name": "flink-producer"
  },
  "language_info": {
   "codemirror_mode": {
    "name": "ipython",
    "version": 3
   },
   "file_extension": ".py",
   "mimetype": "text/x-python",
   "name": "python",
   "nbconvert_exporter": "python",
   "pygments_lexer": "ipython3",
   "version": "3.9.6"
  }
 },
 "nbformat": 4,
 "nbformat_minor": 2
}
